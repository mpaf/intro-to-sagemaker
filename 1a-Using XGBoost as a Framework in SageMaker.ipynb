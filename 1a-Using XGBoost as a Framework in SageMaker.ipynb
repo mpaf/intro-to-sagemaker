{
 "cells": [
  {
   "cell_type": "markdown",
   "metadata": {},
   "source": [
    "## Training with SageMaker XGBoost as Framework\n",
    "\n",
    "When training with the SageMaker built-in XGBoost container as a framework, we provide the entry-point script as well as an optional source directory with extra modules. The two different ways to run SageMaker XGBoost are described at: https://docs.aws.amazon.com/sagemaker/latest/dg/xgboost.html.\n",
    "\n",
    "More details on training with XGBoost as a framework here:\n",
    "\n",
    "https://sagemaker.readthedocs.io/en/stable/using_xgboost.html\n",
    "\n",
    "The code with details on the contents of the XGBoost framework container is at:\n",
    "\n",
    "https://github.com/aws/sagemaker-xgboost-container\n",
    "\n",
    "When executed on SageMaker a number of helpful environment variables are available to access properties of the training environment, such as:\n",
    " \n",
    "- SM_MODEL_DIR: A string representing the path to the directory to write model artifacts to. Any artifacts saved in this folder are uploaded to S3 for model hosting after the training job completes.\n",
    "- SM_OUTPUT_DIR: A string representing the filesystem path to write output artifacts to. Output artifacts may include checkpoints, graphs, and other files to save, not including model artifacts. These artifacts are compressed and uploaded to S3 to the same S3 prefix as the model artifacts.\n",
    "\n",
    "Supposing two input channels, 'train' and 'validation', were used in the call to the XGBoost estimator's fit() method, the following environment variables will be set, following the format SM_CHANNEL_[channel_name]:\n",
    "\n",
    "- SM_CHANNEL_TRAIN: A string representing the path to the directory containing data in the 'train' channel\n",
    "- SM_CHANNEL_VALIDATION: Same as above, but for the 'validation' channel.\n",
    "\n",
    "A typical training script loads data from the input channels, configures training with hyperparameters, trains a model, and saves a model to model_dir so that it can be hosted later. Hyperparameters are passed to your script as arguments and can be retrieved with an argparse.ArgumentParser instance."
   ]
  },
  {
   "cell_type": "code",
   "execution_count": null,
   "metadata": {},
   "outputs": [],
   "source": [
    "import sagemaker\n",
    "from sagemaker import get_execution_role\n",
    "\n",
    "sagemaker_session = sagemaker.Session()\n",
    "\n",
    "# this will create a 'default' sagemaker bucket if it doesn't exist (sagemaker-region-accountid)\n",
    "bucket = sagemaker_session.default_bucket()\n",
    "print(bucket)\n",
    "\n",
    "# Get the ARN of the IAM role used by this Studio instance to pass to training jobs and other Amazon SageMaker tasks.\n",
    "role = get_execution_role()\n",
    "print(role)"
   ]
  },
  {
   "cell_type": "code",
   "execution_count": null,
   "metadata": {},
   "outputs": [],
   "source": [
    "%%time\n",
    "\n",
    "import sagemaker\n",
    "import boto3\n",
    "from sagemaker.xgboost.estimator import XGBoost\n",
    "\n",
    "# set the hyperparameters\n",
    "hyperparams = {\n",
    "    \"num_class\": \"3\",\n",
    "    \"silent\": \"0\",\n",
    "    \"objective\": \"multi:softmax\",\n",
    "    \"num_round\": \"10\" \n",
    "}\n",
    "\n",
    "# build a SageMaker estimator Framework class\n",
    "xgb_estimator = XGBoost(\n",
    "    role=role,\n",
    "    framework_version='latest',\n",
    "    instance_count=1,\n",
    "    instance_type='ml.m5.large',\n",
    "    output_path='s3://{}/iris/output'.format(bucket),\n",
    "    entry_point=\"./src/train_script.py\", # NEW PARAMETER\n",
    "    hyperparameters=hyperparams,\n",
    "    sagemaker_session=sagemaker_session\n",
    ")\n",
    "\n",
    "s3_input_train = sagemaker.inputs.TrainingInput(s3_data='s3://{}/iris/data/iris_train.csv'.format(bucket), content_type='csv')\n",
    "s3_input_validation = sagemaker.inputs.TrainingInput(s3_data='s3://{}/iris/data/iris_val.csv'.format(bucket), content_type='csv')\n",
    "\n",
    "xgb_estimator.fit({\n",
    "    \"train\": s3_input_train,\n",
    "    \"validation\": s3_input_validation\n",
    "})"
   ]
  }
 ],
 "metadata": {
  "language_info": {
   "name": "python",
   "nbconvert_exporter": "python"
  },
  "orig_nbformat": 4
 },
 "nbformat": 4,
 "nbformat_minor": 2
}